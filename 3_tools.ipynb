{
 "cells": [
  {
   "cell_type": "markdown",
   "metadata": {},
   "source": [
    "# Tools  \n",
    "\n",
    "At the end of the day, what good is an LLM if I have to read its output and manually perform some action? We want the LLM to have a real-world impact—to produce actual side effects. That is to say:  \n",
    "\n",
    "- Place an order  \n",
    "- Send an email  \n",
    "- Make an HTTP request  \n",
    "- Query a database  \n",
    "- And more...  \n",
    "\n",
    "All without requiring human intervention."
   ]
  },
  {
   "cell_type": "markdown",
   "metadata": {},
   "source": [
    "### Example Single tool (Weather)"
   ]
  },
  {
   "cell_type": "code",
   "execution_count": null,
   "metadata": {},
   "outputs": [],
   "source": [
    "import anthropic\n",
    "from utils import ANTHROPIC_API_KEY\n",
    "\n",
    "client = anthropic.Anthropic(api_key=ANTHROPIC_API_KEY)"
   ]
  },
  {
   "cell_type": "code",
   "execution_count": null,
   "metadata": {},
   "outputs": [],
   "source": [
    "def query_w_tool(msg, tools, process_f):\n",
    "    model = \"claude-3-5-haiku-latest\"\n",
    "    print(f\"\\n{'='*50}\\nUser Message: {msg}\\n{'='*50}\")\n",
    "    message = client.messages.create(\n",
    "        model=model,\n",
    "        max_tokens=4096,\n",
    "        messages=[{\"role\": \"user\", \"content\": msg}],\n",
    "        tools=tools,\n",
    "        tool_choice={\"type\": \"auto\"}\n",
    "    )\n",
    "\n",
    "    print(f\"\\nInitial Response:\")\n",
    "    print(f\"Stop Reason: {message.stop_reason}\")\n",
    "    print(f\"Content: {message.content}\")\n",
    "\n",
    "    seen_msgs = []\n",
    "\n",
    "    if message.stop_reason == \"tool_use\":\n",
    "        tool_use = next(block for block in message.content if block.type == \"tool_use\")\n",
    "        tool_name = tool_use.name\n",
    "        tool_input = tool_use.input\n",
    "\n",
    "        print(f\"\\nTool Used: {tool_name}\")\n",
    "        print(f\"Tool Input: {tool_input}\")\n",
    "        \n",
    "        tool_result = process_f(tool_name, tool_input)\n",
    "        print(f\"Tool Result: {tool_result}\")\n",
    "\n",
    "        response = client.messages.create(\n",
    "            model=model,\n",
    "            max_tokens=4096,\n",
    "            messages=[\n",
    "                {\"role\": \"user\", \"content\": msg},\n",
    "                {\"role\": \"assistant\", \"content\": message.content},\n",
    "                {\n",
    "                    \"role\": \"user\",\n",
    "                    \"content\": [\n",
    "                        {\n",
    "                            \"type\": \"tool_result\",\n",
    "                            \"tool_use_id\": tool_use.id,\n",
    "                            \"content\": tool_result,\n",
    "                        }\n",
    "                    ],\n",
    "                },\n",
    "            ],\n",
    "            tools=tools,\n",
    "        )\n",
    "    else:\n",
    "        response = message\n",
    "\n",
    "    final_response = next((block.text for block in response.content if hasattr(block, \"text\")), None)\n",
    "    print(response.content)\n",
    "    print(f\"\\nFinal Response: {final_response}\")\n",
    "    return final_response\n"
   ]
  },
  {
   "cell_type": "code",
   "execution_count": null,
   "metadata": {},
   "outputs": [],
   "source": [
    "def get_weather(location: str, unit: str = \"celsius\"):\n",
    "    if unit == \"celsius\": return \"23 deg C\"\n",
    "    return \"67 F\"\n",
    "\n",
    "# A tool is a JSON schema\n",
    "weather_tool = {\n",
    "  \"name\": \"get_weather\",\n",
    "  \"description\": \"Get the current weather in a given location\",\n",
    "  \"input_schema\": {\n",
    "    \"type\": \"object\",\n",
    "    \"properties\": {\n",
    "      \"location\": {\n",
    "        \"type\": \"string\",\n",
    "        \"description\": \"The city and state, e.g. San Francisco, CA\"\n",
    "      },\n",
    "      \"unit\": {\n",
    "        \"type\": \"string\",\n",
    "        \"enum\": [\"celsius\", \"fahrenheit\"],\n",
    "        \"description\": \"The unit of temperature, either 'celsius' or 'fahrenheit'\"\n",
    "      }\n",
    "    },\n",
    "    \"required\": [\"location\"]\n",
    "  }\n",
    "}\n",
    "\n",
    "def process(name, input_obj):\n",
    "    if name == \"get_weather\":\n",
    "        return get_weather(input_obj[\"location\"], input_obj[\"unit\"])\n",
    "\n",
    "query_w_tool(\"Get weather in calagry in metric unit\", [weather_tool], process)"
   ]
  },
  {
   "cell_type": "markdown",
   "metadata": {},
   "source": [
    "### Quiz \n",
    "\n",
    "How would you handle tooling if it was not offered by the LLM provider?  \n",
    "\n",
    "--------  \n",
    "\n",
    "Now, almost all providers offer first-class tool support. Previously, we had to write a system prompt that defined tool attributes and tool parameters. Additionally, we had to write a parser to process the LLM output and extract tool calls and input values.  \n",
    "\n",
    "Now, it's much more straightforward. If you're working with a custom model, you can use the system prompt to define possible tools and the format for tool calls.  \n",
    "\n",
    "```  \n",
    "You are an intelligent assistant. You may request a tool...  \n",
    "....  \n",
    "....  \n",
    "\n",
    "<tools>  \n",
    "<tool name=\"\">  \n",
    "<arg name=\"\", description=\"\">  \n",
    "</tool>  \n",
    "\n",
    "{USER PROMPT}  \n",
    "```"
   ]
  },
  {
   "cell_type": "markdown",
   "metadata": {},
   "source": [
    "### Quiz (Calculator)"
   ]
  },
  {
   "cell_type": "code",
   "execution_count": null,
   "metadata": {},
   "outputs": [],
   "source": [
    "import re\n",
    "\n",
    "def simple_calculator(expression):\n",
    "    expression = re.sub(r'[^0-9+\\-*/().]', '', expression)\n",
    "    try: return str(eval(expression))\n",
    "    except (SyntaxError, ZeroDivisionError, NameError, TypeError, OverflowError): return \"Error: Invalid expression\""
   ]
  },
  {
   "cell_type": "code",
   "execution_count": null,
   "metadata": {},
   "outputs": [],
   "source": [
    "simple_calculator(\"1*2+2\")"
   ]
  },
  {
   "cell_type": "code",
   "execution_count": null,
   "metadata": {},
   "outputs": [],
   "source": [
    "calculator_tool = {\n",
    "    \"name\": \"simple_calculator\",\n",
    "    \"description\": \"\",\n",
    "    \"input_schema\": {} # FILL ME\n",
    "}\n",
    "\n",
    "def process(tool_name, tool_input):\n",
    "    if tool_name == \"simple_calculator\":\n",
    "        return \"\" # FILL ME\n",
    "\n",
    "query_w_tool(\"what's 1*1 + 2*2?\", [calculator_tool], process)"
   ]
  },
  {
   "cell_type": "markdown",
   "metadata": {},
   "source": [
    "### Quiz (Simple transaction bot)"
   ]
  },
  {
   "cell_type": "code",
   "execution_count": null,
   "metadata": {},
   "outputs": [],
   "source": [
    "USERS = {\n",
    "    \"helena\": {\n",
    "        \"name\": \"Helena W\",\n",
    "        \"email\": \"helena@uwaterloo.ca\",\n",
    "        \"phone\": \"226-110-1110\"\n",
    "    },\n",
    "    \"jeremy\": {\n",
    "        \"name\": \"Jeremy A\",\n",
    "        \"email\": \"jeremy@uwaterloo.ca\",\n",
    "        \"phone\": \"226-120-1220\"\n",
    "    }\n",
    "}\n",
    "\n",
    "BOOKINGS = {\n",
    "    \"b1\": {\n",
    "        \"id\": \"b1\",\n",
    "        \"title\": \"Breakfast at Hotel Pkg\",\n",
    "        \"price\": 20.00,\n",
    "        \"status\": \"booked\",\n",
    "    },\n",
    "    \"b2\": {\n",
    "        \"id\": \"b2\",\n",
    "        \"title\": \"Dinner at Hotel Pkg\",\n",
    "        \"price\": 120.00,\n",
    "        \"status\": \"booked\",\n",
    "    }\n",
    "}\n",
    "\n",
    "def get_user(user_id: str):\n",
    "    return USERS.get(user_id, \"Customer not found\")\n",
    "    return {\n",
    "        \"name\": \"Helena W\",\n",
    "        \"age\": 25,\n",
    "        \"bookings\": [11, 12]\n",
    "    }\n",
    "\n",
    "def get_booking_detail(booking_id: str):\n",
    "    return BOOKINGS.get(booking_id, \"Booking not found\")\n",
    "\n",
    "def cancel_booking_detail(booking_id: str):\n",
    "    if booking_id in BOOKINGS:\n",
    "        return True # fake delete\n",
    "    return False"
   ]
  },
  {
   "cell_type": "code",
   "execution_count": null,
   "metadata": {},
   "outputs": [],
   "source": [
    "info_tool = {\n",
    "    \"name\": \"get_user\",\n",
    "    \"description\": \"\", # Fill me\n",
    "    \"input_schema\": {} # Fill me\n",
    "}\n",
    "\n",
    "booking_detail_tool = {\n",
    "    \"name\": \"booking_detail_tool\",\n",
    "    \"description\": \"\", # Fill me\n",
    "    \"input_schema\": {} # Fill me\n",
    "}\n",
    "\n",
    "cancel_booking_tool = {\n",
    "    \"name\": \"cancel_booking_tool\",\n",
    "    \"description\": \"\", # Fill me\n",
    "    \"input_schema\": {} # Fill me\n",
    "}\n",
    "\n",
    "transaction_tools = [info_tool, booking_detail_tool, cancel_booking_tool]\n",
    "\n",
    "def process(tool_name, tool_input):\n",
    "    if tool_name == \"get_user\": \n",
    "        return info(tool_input[\"user_id\"])\n",
    "    elif tool_name == \"get_order_details\": \n",
    "        # FILL ME\n",
    "        return\n",
    "    elif tool_name == \"cancel_order\":\n",
    "        return cancel_order(cancel_booking_detail[\"booking_id\"])"
   ]
  },
  {
   "cell_type": "code",
   "execution_count": null,
   "metadata": {},
   "outputs": [],
   "source": [
    "# query_w_tool(\"Tell me email address for user helena?\", transaction_tools, process)\n",
    "# query_w_tool(\"Tell me phone number for user jeremy?\", transaction_tools, process)\n",
    "# query_w_tool(\"Status of booking b1\", transaction_tools, process)\n",
    "# query_w_tool(\"Cancel booking b1\", transaction_tools, process)"
   ]
  },
  {
   "cell_type": "markdown",
   "metadata": {},
   "source": [
    "### Quiz\n",
    "\n",
    "**Why doesn't following work?** How would we change `query_w_tool` function?"
   ]
  },
  {
   "cell_type": "code",
   "execution_count": null,
   "metadata": {},
   "outputs": [],
   "source": [
    "def get_time(city: str):\n",
    "    return \"12pm\"\n",
    "\n",
    "time_tool = {\n",
    "  \"name\": \"get_time\",\n",
    "  \"description\": \"Get the current time in a given location\",\n",
    "  \"input_schema\": {\n",
    "    \"type\": \"object\",\n",
    "    \"properties\": {\n",
    "      \"location\": {\n",
    "        \"type\": \"string\",\n",
    "        \"description\": \"The city and state, e.g. San Francisco, CA\"\n",
    "      },\n",
    "    },\n",
    "    \"required\": [\"location\"]\n",
    "  }\n",
    "}\n",
    "\n",
    "def process(name, input_obj):\n",
    "    if name == \"get_time\":\n",
    "        return get_time(input_obj[\"location\"], input_obj[\"unit\"])\n",
    "    if name == \"get_weather\":\n",
    "        return get_weather(input_obj[\"location\"], input_obj[\"unit\"])\n",
    "\n",
    "# query_w_tool(\"tell me time and temp in calagry rn\", [weather_tool, time_tool], process)"
   ]
  },
  {
   "cell_type": "code",
   "execution_count": null,
   "metadata": {},
   "outputs": [],
   "source": []
  }
 ],
 "metadata": {
  "kernelspec": {
   "display_name": "Python 3 (ipykernel)",
   "language": "python",
   "name": "python3"
  },
  "language_info": {
   "codemirror_mode": {
    "name": "ipython",
    "version": 3
   },
   "file_extension": ".py",
   "mimetype": "text/x-python",
   "name": "python",
   "nbconvert_exporter": "python",
   "pygments_lexer": "ipython3",
   "version": "3.13.1"
  }
 },
 "nbformat": 4,
 "nbformat_minor": 4
}
